{
  "nbformat": 4,
  "nbformat_minor": 0,
  "metadata": {
    "colab": {
      "name": "ExtractingMelSpec.ipynb",
      "provenance": [],
      "authorship_tag": "ABX9TyOVhP4iOqI1vitFxPsrOjN+",
      "include_colab_link": true
    },
    "kernelspec": {
      "name": "python3",
      "display_name": "Python 3"
    },
    "language_info": {
      "name": "python"
    }
  },
  "cells": [
    {
      "cell_type": "markdown",
      "metadata": {
        "id": "view-in-github",
        "colab_type": "text"
      },
      "source": [
        "<a href=\"https://colab.research.google.com/github/littlejacinthe/torchaudio/blob/main/ExtractingMelSpec.ipynb\" target=\"_parent\"><img src=\"https://colab.research.google.com/assets/colab-badge.svg\" alt=\"Open In Colab\"/></a>"
      ]
    },
    {
      "cell_type": "markdown",
      "source": [
        "[Tutorial from The Sound of AI YT Channel](https://www.youtube.com/watch?v=lhF_RVa7DLE&list=PL-wATfeyAMNoirN4idjev6aRu8ISZYVWm&index=5)\n",
        "\n",
        "\n",
        "Extracting Mel Spectrograms"
      ],
      "metadata": {
        "id": "GpgtF47fP6Mv"
      }
    },
    {
      "cell_type": "code",
      "execution_count": 5,
      "metadata": {
        "id": "iPI9TDSxP1nj"
      },
      "outputs": [],
      "source": [
        "# using transforms module\n",
        "\n",
        "import torch\n",
        "from torch.utils.data import Dataset\n",
        "import pandas as pd\n",
        "import torchaudio\n",
        "import os"
      ]
    },
    {
      "cell_type": "code",
      "source": [
        "#DL dataset\n",
        "# Unzip dataset\n",
        "!wget https://zenodo.org/record/1203745/files/UrbanSound8K.tar.gz -O urban8k.tgz\n",
        "!tar -xzf urban8k.tgz\n",
        "!rm urban8k.tgz"
      ],
      "metadata": {
        "colab": {
          "base_uri": "https://localhost:8080/"
        },
        "id": "4ie6oqBOQwQ2",
        "outputId": "d0280de5-8bc2-44b7-e111-a7b94a635e56"
      },
      "execution_count": 2,
      "outputs": [
        {
          "output_type": "stream",
          "name": "stdout",
          "text": [
            "--2022-08-24 09:51:13--  https://zenodo.org/record/1203745/files/UrbanSound8K.tar.gz\n",
            "Resolving zenodo.org (zenodo.org)... 137.138.76.77\n",
            "Connecting to zenodo.org (zenodo.org)|137.138.76.77|:443... connected.\n",
            "HTTP request sent, awaiting response... 200 OK\n",
            "Length: 6023741708 (5.6G) [application/octet-stream]\n",
            "Saving to: ‘urban8k.tgz’\n",
            "\n",
            "urban8k.tgz         100%[===================>]   5.61G  33.6MB/s    in 5m 17s  \n",
            "\n",
            "2022-08-24 09:56:32 (18.1 MB/s) - ‘urban8k.tgz’ saved [6023741708/6023741708]\n",
            "\n"
          ]
        }
      ]
    },
    {
      "cell_type": "code",
      "source": [
        "class UrbanSoundDataset(Dataset):\n",
        "\n",
        "  def __init__(self, annotations_file, audio_dir, transformation, target_sample_rate):\n",
        "    self.annotations = pd.read_csv(annotations_file)\n",
        "    self.audio_dir = audio_dir\n",
        "    self.transformation = transformation\n",
        "    self.target_sample_rate = target_sample_rate\n",
        "\n",
        "  def __len__(self):\n",
        "    # how to calculate the length of the dataset so len(dataset)\n",
        "    return len(self.annotations)\n",
        "\n",
        "  def __getitem__(self, index):\n",
        "    # list[1] -> list.__getitem__(1)\n",
        "    audio_sample_path = self.get_audio_sample_path(index)\n",
        "    label = self.get_audio_sample_label(index)\n",
        "    signal, sr = torchaudio.load(audio_sample_path)\n",
        "    signal = self.resample_if_necessary(signal, sr)\n",
        "    signal = self._mix_down_if_necessary(signal)\n",
        "    signal = self.transformation(signal)\n",
        "\n",
        "    return signal, label\n",
        "\n",
        "  def resample_if_necessary(self, signal, sr):\n",
        "    if sr != self.target_sample_rate:\n",
        "      resampler = torchaudio.transforms.Resample(sr, self.target_sample_rate)\n",
        "      signal = resampler(signal)\n",
        "    return signal\n",
        "\n",
        "  def _mix_down_if_necessary(self, signal):\n",
        "    if signal.shape[0] > 1:\n",
        "      signal = torch.mean(signal, dim=0, keepdim=True) #[2, 16000] -> [1, 16000]\n",
        "    return signal\n",
        "\n",
        "  def get_audio_sample_path(self, index):\n",
        "    fold = f\"fold{self.annotations.iloc[index, 5]}\"\n",
        "    path = os.path.join(self.audio_dir, fold, self.annotations.iloc[index, 0])\n",
        "    return path\n",
        "\n",
        "  def get_audio_sample_label(self, index):\n",
        "    return self.annotations.iloc[index, 6]"
      ],
      "metadata": {
        "id": "adv-5sO_Qxus"
      },
      "execution_count": 6,
      "outputs": []
    },
    {
      "cell_type": "code",
      "source": [
        "if __name__ == \"__main__\":\n",
        "\n",
        "  ANNOTATIONS_FILE = \"/content/UrbanSound8K/metadata/UrbanSound8K.csv\"\n",
        "  AUDIO_DIR = \"/content/UrbanSound8K/audio\"\n",
        "  SAMPLE_RATE = 16000\n",
        "\n",
        "  mel_spectrogram = torchaudio.transforms.MelSpectrogram(\n",
        "      sample_rate=SAMPLE_RATE, \n",
        "      n_fft = 1024,\n",
        "      hop_length = 512,\n",
        "      n_mels = 64\n",
        "      )\n",
        "\n",
        "  usd = UrbanSoundDataset(ANNOTATIONS_FILE, AUDIO_DIR, mel_spectrogram, SAMPLE_RATE)\n",
        "  print(f\"There are {len(usd)} samples in the dataset\")\n",
        "\n",
        "  signal, label = usd[0]\n",
        "\n",
        "  a = 1"
      ],
      "metadata": {
        "colab": {
          "base_uri": "https://localhost:8080/"
        },
        "id": "hZehM7S4Qz-O",
        "outputId": "eb971ccc-c8d4-4037-ec12-df90280768a7"
      },
      "execution_count": 8,
      "outputs": [
        {
          "output_type": "stream",
          "name": "stdout",
          "text": [
            "There are 8732 samples in the dataset\n"
          ]
        }
      ]
    },
    {
      "cell_type": "markdown",
      "source": [
        "With the GTZAN Dataset"
      ],
      "metadata": {
        "id": "eoqqm8PXon2O"
      }
    },
    {
      "cell_type": "code",
      "source": [
        "#upload your .json file with your own Kaggle key\n",
        "! mkdir /root/.kaggle\n",
        "! mv /content/kaggle.json /root/.kaggle"
      ],
      "metadata": {
        "id": "KRaOi0Q-Q1eT"
      },
      "execution_count": 9,
      "outputs": []
    },
    {
      "cell_type": "code",
      "source": [
        "# Download dataset\n",
        "! kaggle datasets download -d andradaolteanu/gtzan-dataset-music-genre-classification"
      ],
      "metadata": {
        "colab": {
          "base_uri": "https://localhost:8080/"
        },
        "id": "vwGf26VFow6F",
        "outputId": "c6835f7c-abc5-446b-bf63-5e22b395cb9a"
      },
      "execution_count": 10,
      "outputs": [
        {
          "output_type": "stream",
          "name": "stdout",
          "text": [
            "Warning: Your Kaggle API key is readable by other users on this system! To fix this, you can run 'chmod 600 /root/.kaggle/kaggle.json'\n",
            "Downloading gtzan-dataset-music-genre-classification.zip to /content\n",
            " 99% 1.20G/1.21G [00:18<00:00, 102MB/s]\n",
            "100% 1.21G/1.21G [00:18<00:00, 68.7MB/s]\n"
          ]
        }
      ]
    },
    {
      "cell_type": "code",
      "source": [
        "#unzip the folder\n",
        "! unzip /content/gtzan-dataset-music-genre-classification.zip"
      ],
      "metadata": {
        "id": "y8TY8NftoyiM"
      },
      "execution_count": null,
      "outputs": []
    },
    {
      "cell_type": "code",
      "source": [
        "class GTZANDataset(Dataset):\n",
        "\n",
        "  def __init__(self, annotations_file, audio_dir, transformation, target_sample_rate):\n",
        "    self.annotations = pd.read_csv(annotations_file)\n",
        "    self.audio_dir = audio_dir\n",
        "    self.transformation = transformation\n",
        "    self.target_sample_rate = target_sample_rate\n",
        "\n",
        "  def __len__(self):\n",
        "    # how to calculate the length of the dataset so len(dataset)\n",
        "    return len(self.annotations)\n",
        "\n",
        "  def __getitem__(self, index):\n",
        "    # list[1] -> list.__getitem__(1)\n",
        "    audio_sample_path = self.get_audio_sample_path(index)\n",
        "    label = self.get_audio_sample_label(index)\n",
        "    signal, sr = torchaudio.load(audio_sample_path)\n",
        "    signal = self.resample_if_necessary(signal, sr)\n",
        "    signal = self._mix_down_if_necessary(signal)\n",
        "    signal = self.transformation(signal)\n",
        "\n",
        "    return signal, label\n",
        "\n",
        "  def resample_if_necessary(self, signal, sr):\n",
        "    if sr != self.target_sample_rate:\n",
        "      resampler = torchaudio.transforms.Resample(sr, self.target_sample_rate)\n",
        "      signal = resampler(signal)\n",
        "    return signal\n",
        "\n",
        "  def _mix_down_if_necessary(self, signal):\n",
        "    if signal.shape[0] > 1:\n",
        "      signal = torch.mean(signal, dim=0, keepdim=True) #[2, 16000] -> [1, 16000]\n",
        "    return signal\n",
        "\n",
        "  def get_audio_sample_path(self, index):\n",
        "    fold = self.annotations.iloc[index, 59]\n",
        "    path = os.path.join(self.audio_dir, fold, self.annotations.iloc[index, 0])\n",
        "    return path\n",
        "\n",
        "  def get_audio_sample_label(self, index):\n",
        "    return self.annotations.iloc[index, 6]"
      ],
      "metadata": {
        "id": "cWgC9EZuo0Ga"
      },
      "execution_count": 32,
      "outputs": []
    },
    {
      "cell_type": "code",
      "source": [
        "if __name__ == \"__main__\":\n",
        "\n",
        "  AUDIO_DIR = \"/content/Data/genres_original\"\n",
        "  ANNOTATIONS_FILE = \"/content/Data/features_30_sec.csv\"\n",
        "  SAMPLE_RATE = 16000\n",
        "\n",
        "  mel_spectrogram = torchaudio.transforms.MelSpectrogram(\n",
        "      sample_rate=SAMPLE_RATE, \n",
        "      n_fft = 1024,\n",
        "      hop_length = 512,\n",
        "      n_mels = 64\n",
        "      )\n",
        "\n",
        "  audio = GTZANDataset(ANNOTATIONS_FILE, AUDIO_DIR, mel_spectrogram, SAMPLE_RATE)\n",
        "  print(f\"There are {len(audio)} samples in the dataset\")\n",
        "\n",
        "  signal, label = audio[0]\n",
        "\n",
        "  a = 1"
      ],
      "metadata": {
        "colab": {
          "base_uri": "https://localhost:8080/"
        },
        "id": "ddbsEiTApJ63",
        "outputId": "b2edccd4-322b-4f62-e89f-dc2381606a9e"
      },
      "execution_count": 33,
      "outputs": [
        {
          "output_type": "stream",
          "name": "stdout",
          "text": [
            "There are 1000 samples in the dataset\n"
          ]
        }
      ]
    },
    {
      "cell_type": "code",
      "source": [
        ""
      ],
      "metadata": {
        "id": "xHVo_l0spVsr"
      },
      "execution_count": null,
      "outputs": []
    }
  ]
}